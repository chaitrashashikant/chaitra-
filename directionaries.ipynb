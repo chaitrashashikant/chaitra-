{
  "nbformat": 4,
  "nbformat_minor": 0,
  "metadata": {
    "colab": {
      "name": "directionaries.ipynb",
      "provenance": []
    },
    "kernelspec": {
      "name": "python3",
      "display_name": "Python 3"
    }
  },
  "cells": [
    {
      "cell_type": "code",
      "metadata": {
        "id": "q4iWLv8upo0q",
        "colab": {
          "base_uri": "https://localhost:8080/"
        },
        "outputId": "c64af5fa-33d2-4dbb-c6a0-fb4e6e2ca3fc"
      },
      "source": [
        "a=45\n",
        "print(a)"
      ],
      "execution_count": null,
      "outputs": [
        {
          "output_type": "stream",
          "text": [
            "45\n"
          ],
          "name": "stdout"
        }
      ]
    },
    {
      "cell_type": "code",
      "metadata": {
        "id": "eCKoiWjypwB_",
        "colab": {
          "base_uri": "https://localhost:8080/"
        },
        "outputId": "7485dd5c-9f2a-40a6-d2b6-3bb071e00a4b"
      },
      "source": [
        "a=\"hello world\"\n",
        "print(a)"
      ],
      "execution_count": null,
      "outputs": [
        {
          "output_type": "stream",
          "text": [
            "hello world\n"
          ],
          "name": "stdout"
        }
      ]
    },
    {
      "cell_type": "code",
      "metadata": {
        "id": "KBIcrVwGp36c"
      },
      "source": [
        "b=a"
      ],
      "execution_count": null,
      "outputs": []
    },
    {
      "cell_type": "code",
      "metadata": {
        "id": "HTR0-dJkp_Ce",
        "colab": {
          "base_uri": "https://localhost:8080/",
          "height": 35
        },
        "outputId": "bae8b1ba-ca9a-4453-d998-83145412dbd6"
      },
      "source": [
        "b"
      ],
      "execution_count": null,
      "outputs": [
        {
          "output_type": "execute_result",
          "data": {
            "application/vnd.google.colaboratory.intrinsic+json": {
              "type": "string"
            },
            "text/plain": [
              "'hello world'"
            ]
          },
          "metadata": {
            "tags": []
          },
          "execution_count": 5
        }
      ]
    },
    {
      "cell_type": "code",
      "metadata": {
        "id": "vWk-qOPNqAuV"
      },
      "source": [
        ""
      ],
      "execution_count": null,
      "outputs": []
    },
    {
      "cell_type": "markdown",
      "metadata": {
        "id": "j3-ylV6GqKIq"
      },
      "source": [
        "Dictionaries"
      ]
    },
    {
      "cell_type": "code",
      "metadata": {
        "id": "nWmqdu9GqUlv",
        "colab": {
          "base_uri": "https://localhost:8080/"
        },
        "outputId": "883ef1cb-723e-4054-a241-2f74edde876a"
      },
      "source": [
        "# creating a dictionary\n",
        "country_info={ \"name\":\"India\",\"Capital\":\"Delhi\"}\n",
        "print(country_info)"
      ],
      "execution_count": null,
      "outputs": [
        {
          "output_type": "stream",
          "text": [
            "{'name': 'India', 'Capital': 'Delhi'}\n"
          ],
          "name": "stdout"
        }
      ]
    },
    {
      "cell_type": "code",
      "metadata": {
        "id": "RviUZJLUtI5f",
        "colab": {
          "base_uri": "https://localhost:8080/"
        },
        "outputId": "a843a17e-5bca-4245-c154-4437bd4bc956"
      },
      "source": [
        "country_info={ \"name\":\"India\",\"Capital\":\"Delhi\"}\n",
        "print(country_info[\"name\"])"
      ],
      "execution_count": null,
      "outputs": [
        {
          "output_type": "stream",
          "text": [
            "India\n"
          ],
          "name": "stdout"
        }
      ]
    },
    {
      "cell_type": "code",
      "metadata": {
        "id": "UqUn9E0mqzRO",
        "colab": {
          "base_uri": "https://localhost:8080/"
        },
        "outputId": "101cd71e-736c-492a-e6a3-9609a84efa7c"
      },
      "source": [
        "country_info={ \"name\":\"India\",\"Capital\":\"Delhi\"}\n",
        "print(country_info[\"Capital\"])"
      ],
      "execution_count": null,
      "outputs": [
        {
          "output_type": "stream",
          "text": [
            "Delhi\n"
          ],
          "name": "stdout"
        }
      ]
    },
    {
      "cell_type": "code",
      "metadata": {
        "id": "ja9HPNLrru2o",
        "colab": {
          "base_uri": "https://localhost:8080/"
        },
        "outputId": "b81d4d3a-af80-40f6-8eab-e85a75bdbd9a"
      },
      "source": [
        "# creating a dictionary\n",
        "country_info={ \"name\":\"Japan\",\"Capital\":\"Tokyo\"}\n",
        "print(country_info)\n",
        "print(country_info[\"name\"])\n",
        "print(country_info[\"Capital\"])\n",
        "\n"
      ],
      "execution_count": null,
      "outputs": [
        {
          "output_type": "stream",
          "text": [
            "{'name': 'Japan', 'Capital': 'Tokyo'}\n",
            "Japan\n",
            "Tokyo\n"
          ],
          "name": "stdout"
        }
      ]
    },
    {
      "cell_type": "code",
      "metadata": {
        "id": "ZIok0Z25so1H",
        "colab": {
          "base_uri": "https://localhost:8080/"
        },
        "outputId": "e375c213-b9a5-4aaf-c404-2982bc059c2c"
      },
      "source": [
        "country_info['population']='139.67M'\n",
        "print(country_info)\n"
      ],
      "execution_count": null,
      "outputs": [
        {
          "output_type": "stream",
          "text": [
            "{'name': 'Japan', 'Capital': 'Tokyo', 'population': '139.67M'}\n"
          ],
          "name": "stdout"
        }
      ]
    },
    {
      "cell_type": "code",
      "metadata": {
        "id": "AKgsxrLgs7zH",
        "colab": {
          "base_uri": "https://localhost:8080/"
        },
        "outputId": "3919366c-0125-4755-b772-6b40d6c89e16"
      },
      "source": [
        "country_info['region']=['hokkaido','tohoku','kanto','chubu','kinki','chugoku']\n",
        "print(country_info)"
      ],
      "execution_count": null,
      "outputs": [
        {
          "output_type": "stream",
          "text": [
            "{'name': 'Japan', 'Capital': 'Tokyo', 'population': '139.67M', 'region': ['hokkaido', 'tohoku', 'kanto', 'chubu', 'kinki', 'chugoku']}\n"
          ],
          "name": "stdout"
        }
      ]
    },
    {
      "cell_type": "code",
      "metadata": {
        "id": "_IOSRpmEuHJM"
      },
      "source": [
        ""
      ],
      "execution_count": null,
      "outputs": []
    }
  ]
}