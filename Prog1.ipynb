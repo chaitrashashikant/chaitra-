{
  "nbformat": 4,
  "nbformat_minor": 0,
  "metadata": {
    "colab": {
      "name": "Prog1.ipynb",
      "provenance": []
    },
    "kernelspec": {
      "name": "python3",
      "display_name": "Python 3"
    }
  },
  "cells": [
    {
      "cell_type": "code",
      "metadata": {
        "id": "IyuwVdX8iRtK"
      },
      "source": [
        ""
      ],
      "execution_count": null,
      "outputs": []
    },
    {
      "cell_type": "markdown",
      "metadata": {
        "id": "dpjlKKAIjidT"
      },
      "source": [
        "# Python beginner tutorials"
      ]
    },
    {
      "cell_type": "code",
      "metadata": {
        "id": "xtfekZV-jqmf",
        "colab": {
          "base_uri": "https://localhost:8080/"
        },
        "outputId": "6c6e5437-0a95-48a5-a9cd-c4db6940b3f6"
      },
      "source": [
        "# Storing a number \n",
        "a=14\n",
        "print(a)"
      ],
      "execution_count": null,
      "outputs": [
        {
          "output_type": "stream",
          "text": [
            "14\n"
          ],
          "name": "stdout"
        }
      ]
    },
    {
      "cell_type": "code",
      "metadata": {
        "id": "wnbvscFzlzRj",
        "colab": {
          "base_uri": "https://localhost:8080/"
        },
        "outputId": "f0928654-971c-44be-9451-781e9de14ed0"
      },
      "source": [
        "# storing a number\n",
        "b=144\n",
        "print(b)"
      ],
      "execution_count": null,
      "outputs": [
        {
          "output_type": "stream",
          "text": [
            "144\n"
          ],
          "name": "stdout"
        }
      ]
    },
    {
      "cell_type": "code",
      "metadata": {
        "id": "7I6YB_3nmMYO",
        "colab": {
          "base_uri": "https://localhost:8080/"
        },
        "outputId": "2a9d5c86-3919-4c31-e55c-9723d5394dc3"
      },
      "source": [
        "c=a+b\n",
        "print(c)"
      ],
      "execution_count": null,
      "outputs": [
        {
          "output_type": "stream",
          "text": [
            "158\n"
          ],
          "name": "stdout"
        }
      ]
    },
    {
      "cell_type": "code",
      "metadata": {
        "id": "Sa_T1v9tmscw",
        "colab": {
          "base_uri": "https://localhost:8080/"
        },
        "outputId": "b59fbd8d-8e16-4c6b-8de4-4a1c5128481a"
      },
      "source": [
        "a"
      ],
      "execution_count": null,
      "outputs": [
        {
          "output_type": "execute_result",
          "data": {
            "text/plain": [
              "14"
            ]
          },
          "metadata": {
            "tags": []
          },
          "execution_count": 4
        }
      ]
    },
    {
      "cell_type": "code",
      "metadata": {
        "id": "UdF28CtbmRZA",
        "colab": {
          "base_uri": "https://localhost:8080/"
        },
        "outputId": "d563abb5-e3cf-4b2b-ffef-10a79b357c2c"
      },
      "source": [
        "b"
      ],
      "execution_count": null,
      "outputs": [
        {
          "output_type": "execute_result",
          "data": {
            "text/plain": [
              "144"
            ]
          },
          "metadata": {
            "tags": []
          },
          "execution_count": 5
        }
      ]
    },
    {
      "cell_type": "code",
      "metadata": {
        "id": "h5yNfbibmuRG",
        "colab": {
          "base_uri": "https://localhost:8080/"
        },
        "outputId": "9d603dbc-25f1-45b1-ad9c-258c8f6f66d5"
      },
      "source": [
        "c"
      ],
      "execution_count": null,
      "outputs": [
        {
          "output_type": "execute_result",
          "data": {
            "text/plain": [
              "158"
            ]
          },
          "metadata": {
            "tags": []
          },
          "execution_count": 6
        }
      ]
    },
    {
      "cell_type": "code",
      "metadata": {
        "id": "p3uXTS08mvMX",
        "colab": {
          "base_uri": "https://localhost:8080/"
        },
        "outputId": "ab6d4668-17a9-4df5-8cc6-c105de16c7f9"
      },
      "source": [
        "# text \n",
        "d= \"this is our introductory class to google colab\"\n",
        "print(d)"
      ],
      "execution_count": null,
      "outputs": [
        {
          "output_type": "stream",
          "text": [
            "this is our introductory class to google colab\n"
          ],
          "name": "stdout"
        }
      ]
    },
    {
      "cell_type": "code",
      "metadata": {
        "id": "Dyk6XibinC29",
        "colab": {
          "base_uri": "https://localhost:8080/",
          "height": 35
        },
        "outputId": "3fd434d9-7f98-4bc4-f19c-dd930d1765ec"
      },
      "source": [
        "d"
      ],
      "execution_count": null,
      "outputs": [
        {
          "output_type": "execute_result",
          "data": {
            "application/vnd.google.colaboratory.intrinsic+json": {
              "type": "string"
            },
            "text/plain": [
              "'this is our introductory class to google colab'"
            ]
          },
          "metadata": {
            "tags": []
          },
          "execution_count": 8
        }
      ]
    },
    {
      "cell_type": "markdown",
      "metadata": {
        "id": "w8aMjov4npPV"
      },
      "source": [
        "what can we do with these variables\n"
      ]
    },
    {
      "cell_type": "code",
      "metadata": {
        "id": "KYWqPtbdnU2w"
      },
      "source": [
        "a=3\n",
        "b=34\n",
        "d=a+b"
      ],
      "execution_count": null,
      "outputs": []
    },
    {
      "cell_type": "code",
      "metadata": {
        "id": "7XCQ3t_6nz0g",
        "colab": {
          "base_uri": "https://localhost:8080/"
        },
        "outputId": "e2e63c40-3294-4ab8-fabc-affa6a2a4907"
      },
      "source": [
        "c"
      ],
      "execution_count": null,
      "outputs": [
        {
          "output_type": "execute_result",
          "data": {
            "text/plain": [
              "158"
            ]
          },
          "metadata": {
            "tags": []
          },
          "execution_count": 10
        }
      ]
    },
    {
      "cell_type": "code",
      "metadata": {
        "id": "eZdd3zK5oH0-",
        "colab": {
          "base_uri": "https://localhost:8080/"
        },
        "outputId": "ec5ca913-9455-4d4f-c706-bc847a2aa7e8"
      },
      "source": [
        "print(d+c)"
      ],
      "execution_count": null,
      "outputs": [
        {
          "output_type": "stream",
          "text": [
            "195\n"
          ],
          "name": "stdout"
        }
      ]
    },
    {
      "cell_type": "code",
      "metadata": {
        "id": "XlUaZkr-oOA2"
      },
      "source": [
        "# how to change the variable values and equate "
      ],
      "execution_count": null,
      "outputs": []
    },
    {
      "cell_type": "code",
      "metadata": {
        "id": "k_-aURJboiz_",
        "colab": {
          "base_uri": "https://localhost:8080/"
        },
        "outputId": "276b31e1-e147-471f-8e6a-6691dd71ec28"
      },
      "source": [
        "a=18\n",
        "print(a)"
      ],
      "execution_count": null,
      "outputs": [
        {
          "output_type": "stream",
          "text": [
            "18\n"
          ],
          "name": "stdout"
        }
      ]
    },
    {
      "cell_type": "code",
      "metadata": {
        "id": "ORLH6cmQomtF",
        "colab": {
          "base_uri": "https://localhost:8080/"
        },
        "outputId": "e6a1e2be-499f-4b20-e9cd-6f824cee14e6"
      },
      "source": [
        "e=a\n",
        "print(e)"
      ],
      "execution_count": null,
      "outputs": [
        {
          "output_type": "stream",
          "text": [
            "18\n"
          ],
          "name": "stdout"
        }
      ]
    },
    {
      "cell_type": "code",
      "metadata": {
        "id": "rIVL-zbeosSY"
      },
      "source": [
        ""
      ],
      "execution_count": null,
      "outputs": []
    }
  ]
}